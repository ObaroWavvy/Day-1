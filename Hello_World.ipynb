{
  "nbformat": 4,
  "nbformat_minor": 0,
  "metadata": {
    "colab": {
      "provenance": [],
      "authorship_tag": "ABX9TyPdLxjryRSfWHpocHhTaLqR",
      "include_colab_link": true
    },
    "kernelspec": {
      "name": "python3",
      "display_name": "Python 3"
    },
    "language_info": {
      "name": "python"
    }
  },
  "cells": [
    {
      "cell_type": "markdown",
      "metadata": {
        "id": "view-in-github",
        "colab_type": "text"
      },
      "source": [
        "<a href=\"https://colab.research.google.com/github/ObaroWavvy/Day-1/blob/main/Hello_World.ipynb\" target=\"_parent\"><img src=\"https://colab.research.google.com/assets/colab-badge.svg\" alt=\"Open In Colab\"/></a>"
      ]
    },
    {
      "cell_type": "code",
      "execution_count": 1,
      "metadata": {
        "colab": {
          "base_uri": "https://localhost:8080/"
        },
        "id": "kXt2xb8opQPu",
        "outputId": "3d86a7a2-4936-42fe-c9d3-68f5dc8b17fd"
      },
      "outputs": [
        {
          "output_type": "stream",
          "name": "stdout",
          "text": [
            "hello world\n"
          ]
        }
      ],
      "source": [
        "print('hello world')"
      ]
    },
    {
      "cell_type": "code",
      "source": [
        "print('My Name Is \"Obaro\"')"
      ],
      "metadata": {
        "colab": {
          "base_uri": "https://localhost:8080/"
        },
        "id": "AjU5IafQp4PL",
        "outputId": "7276983c-671c-492a-90ff-f63355e86d3b"
      },
      "execution_count": 2,
      "outputs": [
        {
          "output_type": "stream",
          "name": "stdout",
          "text": [
            "My Name Is \"Obaro\"\n"
          ]
        }
      ]
    },
    {
      "cell_type": "markdown",
      "source": [
        "#How To Create A New Line"
      ],
      "metadata": {
        "id": "Qcej_lnFqMT8"
      }
    },
    {
      "cell_type": "code",
      "source": [
        "print('Hello world \\nHello world')"
      ],
      "metadata": {
        "colab": {
          "base_uri": "https://localhost:8080/"
        },
        "id": "BozR3-21qjGw",
        "outputId": "5a192327-884c-4349-f05c-be6e9b4265ff"
      },
      "execution_count": 6,
      "outputs": [
        {
          "output_type": "stream",
          "name": "stdout",
          "text": [
            "Hello world \n",
            "Hello world\n"
          ]
        }
      ]
    },
    {
      "cell_type": "markdown",
      "source": [
        "##Concatenantion"
      ],
      "metadata": {
        "id": "NUeoqxjHr-6v"
      }
    },
    {
      "cell_type": "code",
      "source": [
        "print('Hello' + 'Julius')"
      ],
      "metadata": {
        "colab": {
          "base_uri": "https://localhost:8080/"
        },
        "id": "_cdRfcfusHrE",
        "outputId": "e7004818-cfed-4b2a-ad40-84e02244e6cc"
      },
      "execution_count": 7,
      "outputs": [
        {
          "output_type": "stream",
          "name": "stdout",
          "text": [
            "HelloJulius\n"
          ]
        }
      ]
    },
    {
      "cell_type": "code",
      "source": [
        "print('Hello' + ' Julius')"
      ],
      "metadata": {
        "colab": {
          "base_uri": "https://localhost:8080/"
        },
        "id": "-AthwHlrsn72",
        "outputId": "5b638d23-a005-467a-8411-b7f94520e3a6"
      },
      "execution_count": 8,
      "outputs": [
        {
          "output_type": "stream",
          "name": "stdout",
          "text": [
            "Hello Julius\n"
          ]
        }
      ]
    },
    {
      "cell_type": "code",
      "source": [
        "print('Hello' + ' ' + 'Obaro')"
      ],
      "metadata": {
        "colab": {
          "base_uri": "https://localhost:8080/"
        },
        "id": "fGLSzKiOuHbj",
        "outputId": "f752d6fe-797c-4699-9db2-fbc5104f9de9"
      },
      "execution_count": 9,
      "outputs": [
        {
          "output_type": "stream",
          "name": "stdout",
          "text": [
            "Hello Obaro\n"
          ]
        }
      ]
    },
    {
      "cell_type": "code",
      "source": [
        "input('What is your name:')"
      ],
      "metadata": {
        "colab": {
          "base_uri": "https://localhost:8080/",
          "height": 53
        },
        "id": "AqH9G3Brvg3o",
        "outputId": "cb5a63b7-3d24-4a21-c4ca-a86b9701d317"
      },
      "execution_count": 10,
      "outputs": [
        {
          "name": "stdout",
          "output_type": "stream",
          "text": [
            "What is your name:Wavvy\n"
          ]
        },
        {
          "output_type": "execute_result",
          "data": {
            "text/plain": [
              "'Wavvy'"
            ],
            "application/vnd.google.colaboratory.intrinsic+json": {
              "type": "string"
            }
          },
          "metadata": {},
          "execution_count": 10
        }
      ]
    },
    {
      "cell_type": "code",
      "source": [
        "str(7)"
      ],
      "metadata": {
        "colab": {
          "base_uri": "https://localhost:8080/",
          "height": 35
        },
        "id": "4kt123wIvqp2",
        "outputId": "71867394-6c37-4d00-a8ed-41ef6cf4c5b1"
      },
      "execution_count": 11,
      "outputs": [
        {
          "output_type": "execute_result",
          "data": {
            "text/plain": [
              "'7'"
            ],
            "application/vnd.google.colaboratory.intrinsic+json": {
              "type": "string"
            }
          },
          "metadata": {},
          "execution_count": 11
        }
      ]
    },
    {
      "cell_type": "code",
      "source": [
        "str('7' + \"T\")"
      ],
      "metadata": {
        "colab": {
          "base_uri": "https://localhost:8080/",
          "height": 35
        },
        "id": "SYiWAtkexnxz",
        "outputId": "d72b60ff-ddee-4fe1-adf9-8da6b50b8b6a"
      },
      "execution_count": 13,
      "outputs": [
        {
          "output_type": "execute_result",
          "data": {
            "text/plain": [
              "'7T'"
            ],
            "application/vnd.google.colaboratory.intrinsic+json": {
              "type": "string"
            }
          },
          "metadata": {},
          "execution_count": 13
        }
      ]
    },
    {
      "cell_type": "code",
      "source": [
        "print('Welcome to Data Science, ' + input('Please your name: '))"
      ],
      "metadata": {
        "colab": {
          "base_uri": "https://localhost:8080/"
        },
        "id": "U47InQDrx1qg",
        "outputId": "166688f9-0bdf-4c82-c1ff-26046fc6e2cb"
      },
      "execution_count": 16,
      "outputs": [
        {
          "output_type": "stream",
          "name": "stdout",
          "text": [
            "Please your name: Obaro Obiuwevbi\n",
            "Welcome to Data Science, Obaro Obiuwevbi\n"
          ]
        }
      ]
    },
    {
      "cell_type": "code",
      "source": [
        "int(input('What is your age: '))"
      ],
      "metadata": {
        "colab": {
          "base_uri": "https://localhost:8080/"
        },
        "id": "TfX0gbshy3uR",
        "outputId": "cf222b5b-62a7-4749-d4a9-0afbbfaf82d3"
      },
      "execution_count": 22,
      "outputs": [
        {
          "name": "stdout",
          "output_type": "stream",
          "text": [
            "What is your age: 8\n"
          ]
        },
        {
          "output_type": "execute_result",
          "data": {
            "text/plain": [
              "8"
            ]
          },
          "metadata": {},
          "execution_count": 22
        }
      ]
    },
    {
      "cell_type": "code",
      "source": [
        "input('Add your name: ') + print('Welcome to Data Science')"
      ],
      "metadata": {
        "colab": {
          "base_uri": "https://localhost:8080/",
          "height": 204
        },
        "id": "vdNy4mZ-zo7I",
        "outputId": "358ba0fd-bbdf-47fa-91ec-4d604bfc2235"
      },
      "execution_count": 20,
      "outputs": [
        {
          "output_type": "stream",
          "name": "stdout",
          "text": [
            "Add your name: Obaro\n",
            "Welcome to Data Science\n"
          ]
        },
        {
          "output_type": "error",
          "ename": "TypeError",
          "evalue": "ignored",
          "traceback": [
            "\u001b[0;31m---------------------------------------------------------------------------\u001b[0m",
            "\u001b[0;31mTypeError\u001b[0m                                 Traceback (most recent call last)",
            "\u001b[0;32m<ipython-input-20-090ec3e875ff>\u001b[0m in \u001b[0;36m<cell line: 1>\u001b[0;34m()\u001b[0m\n\u001b[0;32m----> 1\u001b[0;31m \u001b[0minput\u001b[0m\u001b[0;34m(\u001b[0m\u001b[0;34m'Add your name: '\u001b[0m\u001b[0;34m)\u001b[0m \u001b[0;34m+\u001b[0m \u001b[0mprint\u001b[0m\u001b[0;34m(\u001b[0m\u001b[0;34m'Welcome to Data Science'\u001b[0m\u001b[0;34m)\u001b[0m\u001b[0;34m\u001b[0m\u001b[0;34m\u001b[0m\u001b[0m\n\u001b[0m",
            "\u001b[0;31mTypeError\u001b[0m: can only concatenate str (not \"NoneType\") to str"
          ]
        }
      ]
    },
    {
      "cell_type": "code",
      "source": [
        "print('Day 1 - String Manipulation')"
      ],
      "metadata": {
        "colab": {
          "base_uri": "https://localhost:8080/"
        },
        "id": "uVhAY9B-0LoT",
        "outputId": "188e397f-d3d1-45f3-8228-197ca3637cd1"
      },
      "execution_count": 23,
      "outputs": [
        {
          "output_type": "stream",
          "name": "stdout",
          "text": [
            "Day 1 - String Manipulation\n"
          ]
        }
      ]
    },
    {
      "cell_type": "code",
      "source": [
        "print('String Concatenation is done with the \"+\" sign. ')"
      ],
      "metadata": {
        "colab": {
          "base_uri": "https://localhost:8080/"
        },
        "id": "0S83Xtx208VJ",
        "outputId": "98f3acfb-10ab-4445-c5a9-20e7b610058d"
      },
      "execution_count": 24,
      "outputs": [
        {
          "output_type": "stream",
          "name": "stdout",
          "text": [
            "String Concatenation is done with the \"+\" sign. \n"
          ]
        }
      ]
    },
    {
      "cell_type": "code",
      "source": [
        "print('e.g. print(\"Hello\" + \"World\")')"
      ],
      "metadata": {
        "colab": {
          "base_uri": "https://localhost:8080/"
        },
        "id": "IUAJbENf1R1Q",
        "outputId": "291ff91b-4b86-4ba0-b4fc-e5101a241cec"
      },
      "execution_count": 25,
      "outputs": [
        {
          "output_type": "stream",
          "name": "stdout",
          "text": [
            "e.g. print(\"Hello\" + \"World\")\n"
          ]
        }
      ]
    },
    {
      "cell_type": "code",
      "source": [
        "print('New lines can be created with a backslash and n.')"
      ],
      "metadata": {
        "colab": {
          "base_uri": "https://localhost:8080/"
        },
        "id": "VuyU6nsy16wr",
        "outputId": "5c0ae4bb-ff4d-4d4d-daf2-2030c97e9b33"
      },
      "execution_count": 26,
      "outputs": [
        {
          "output_type": "stream",
          "name": "stdout",
          "text": [
            "New lines can be created with a backslash and n.\n"
          ]
        }
      ]
    },
    {
      "cell_type": "markdown",
      "source": [
        "#If Else Statement\n"
      ],
      "metadata": {
        "id": "0nAjXNkA4_y_"
      }
    },
    {
      "cell_type": "code",
      "source": [
        "num = 3\n",
        "if num == 0:\n",
        "  print('I agree')\n",
        "else:\n",
        "  print('I disagree')"
      ],
      "metadata": {
        "colab": {
          "base_uri": "https://localhost:8080/"
        },
        "id": "alB9X45Y4_JE",
        "outputId": "29370bc1-58b5-4631-8341-f27752dd4d6f"
      },
      "execution_count": 28,
      "outputs": [
        {
          "output_type": "stream",
          "name": "stdout",
          "text": [
            "I disagree\n"
          ]
        }
      ]
    },
    {
      "cell_type": "code",
      "source": [
        "num = 3\n",
        "if num == 3:\n",
        "  print('I agree')\n",
        "else:\n",
        "  print('I disagree')"
      ],
      "metadata": {
        "colab": {
          "base_uri": "https://localhost:8080/"
        },
        "id": "4HwNfltQ7uLa",
        "outputId": "12753e3f-5fa3-4bb4-e8fc-227c62a0b287"
      },
      "execution_count": 29,
      "outputs": [
        {
          "output_type": "stream",
          "name": "stdout",
          "text": [
            "I agree\n"
          ]
        }
      ]
    },
    {
      "cell_type": "code",
      "source": [
        "num = 8237\n",
        "if num == 0:\n",
        "  print('I agree')\n",
        "elif num > 18237:\n",
        "  print('Accurate')\n",
        "else: \n",
        "  print(\"Inaccurate\")"
      ],
      "metadata": {
        "colab": {
          "base_uri": "https://localhost:8080/"
        },
        "id": "iMrLLkmg8uWV",
        "outputId": "e080ce98-bec2-4205-ed06-cd9b885c65fb"
      },
      "execution_count": 32,
      "outputs": [
        {
          "output_type": "stream",
          "name": "stdout",
          "text": [
            "Inaccurate\n"
          ]
        }
      ]
    },
    {
      "cell_type": "code",
      "source": [
        "print('Welcome to Wavvy Bank')\n",
        "print('Hello ' + input('what is your name: '))\n",
        "acc_balance = int(input('How much do you have in your account '))\n",
        "withdraw = int(input('How much do you want to withdraw: '))\n",
        "if withdraw < acc_balance:\n",
        "  print('Withdrawal Successful ' + str(acc_balance - withdraw ))\n",
        "elif withdraw == acc_balance:\n",
        "  print('Withdrawal Successful, dial *901# to get a loan ' + str(acc_balance - withdraw ))\n",
        "else:\n",
        "  print('Insufficient Funds')"
      ],
      "metadata": {
        "colab": {
          "base_uri": "https://localhost:8080/"
        },
        "id": "b0rT2NSwAzws",
        "outputId": "f5896e17-98e2-434c-d8f5-307c6b8ff80c"
      },
      "execution_count": 39,
      "outputs": [
        {
          "output_type": "stream",
          "name": "stdout",
          "text": [
            "Welcome to Wavvy Bank\n",
            "what is your name: obaro\n",
            "Hello obaro\n",
            "How much do you have in your account 2000000\n",
            "How much do you want to withdraw: 40000\n",
            "Withdrawal Successful 1960000\n"
          ]
        }
      ]
    }
  ]
}