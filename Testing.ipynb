{
  "nbformat": 4,
  "nbformat_minor": 0,
  "metadata": {
    "colab": {
      "provenance": [],
      "authorship_tag": "ABX9TyNcLaCF9qk6c+jXGQNFsf1Z",
      "include_colab_link": true
    },
    "kernelspec": {
      "name": "python3",
      "display_name": "Python 3"
    },
    "language_info": {
      "name": "python"
    }
  },
  "cells": [
    {
      "cell_type": "markdown",
      "metadata": {
        "id": "view-in-github",
        "colab_type": "text"
      },
      "source": [
        "<a href=\"https://colab.research.google.com/github/ObaroWavvy/Day-1/blob/main/Testing.ipynb\" target=\"_parent\"><img src=\"https://colab.research.google.com/assets/colab-badge.svg\" alt=\"Open In Colab\"/></a>"
      ]
    },
    {
      "cell_type": "markdown",
      "source": [
        "<hi>Obaro<h2>\n",
        "<h2>Wavvy<h1>"
      ],
      "metadata": {
        "id": "R5Z7krkybfCI"
      }
    },
    {
      "cell_type": "code",
      "source": [
        "<hi>nawa<h2>\n"
      ],
      "metadata": {
        "colab": {
          "base_uri": "https://localhost:8080/",
          "height": 130
        },
        "id": "XGLAU-fXedho",
        "outputId": "688940f2-ea98-47b2-c791-527c562b09e1"
      },
      "execution_count": null,
      "outputs": [
        {
          "output_type": "error",
          "ename": "SyntaxError",
          "evalue": "ignored",
          "traceback": [
            "\u001b[0;36m  File \u001b[0;32m\"<ipython-input-1-5f2d79d11803>\"\u001b[0;36m, line \u001b[0;32m1\u001b[0m\n\u001b[0;31m    <hi>nawa<h2>\u001b[0m\n\u001b[0m    ^\u001b[0m\n\u001b[0;31mSyntaxError\u001b[0m\u001b[0;31m:\u001b[0m invalid syntax\n"
          ]
        }
      ]
    },
    {
      "cell_type": "code",
      "source": [],
      "metadata": {
        "id": "WOVezU9zdECk"
      },
      "execution_count": null,
      "outputs": []
    },
    {
      "cell_type": "markdown",
      "source": [
        "how you dey\n",
        "coming home\n"
      ],
      "metadata": {
        "id": "nHUzN81kdzAF"
      }
    },
    {
      "cell_type": "code",
      "source": [],
      "metadata": {
        "id": "iEE4vH9JfZ6S"
      },
      "execution_count": null,
      "outputs": []
    },
    {
      "cell_type": "code",
      "source": [],
      "metadata": {
        "id": "73c6tL7GdB6X"
      },
      "execution_count": null,
      "outputs": []
    },
    {
      "cell_type": "code",
      "execution_count": null,
      "metadata": {
        "id": "ljglZeq-ZjVj"
      },
      "outputs": [],
      "source": []
    }
  ]
}